{
  "cells": [
    {
      "cell_type": "markdown",
      "metadata": {
        "id": "view-in-github",
        "colab_type": "text"
      },
      "source": [
        "<a href=\"https://colab.research.google.com/github/parijatgaur/Colabprojects/blob/main/DeepNeuralNetworkPyTroch.ipynb\" target=\"_parent\"><img src=\"https://colab.research.google.com/assets/colab-badge.svg\" alt=\"Open In Colab\"/></a>"
      ]
    },
    {
      "cell_type": "code",
      "execution_count": null,
      "metadata": {
        "colab": {
          "base_uri": "https://localhost:8080/"
        },
        "id": "1EPac3exWB3b",
        "outputId": "a7a35a9c-21be-490b-9c75-21baad68f853"
      },
      "outputs": [
        {
          "output_type": "stream",
          "name": "stdout",
          "text": [
            "3\n",
            "torch.int64\n",
            "torch.LongTensor\n",
            "\n",
            " b  3.0999999046325684\n",
            "torch.float32\n",
            "torch.FloatTensor\n",
            "\n",
            " c  3\n",
            "torch.int32\n",
            "torch.IntTensor\n",
            "\n",
            " d  3.0\n",
            "torch.float32\n",
            "torch.FloatTensor\n",
            "New dtype  torch.int64\n",
            "torch.LongTensor\n"
          ]
        }
      ],
      "source": [
        "import torch\n",
        "\n",
        "a = torch.tensor([3,4,5,67])\n",
        "\n",
        "print(a[0].item())\n",
        "print(a.dtype)\n",
        "print(a.type())\n",
        "\n",
        "b = torch.tensor([3.1,0.4,5.56789,67.00])\n",
        "\n",
        "print('\\n b ',b[0].item())\n",
        "print(b.dtype)\n",
        "print(b.type())\n",
        "\n",
        "c = torch.tensor([3.1,0.4,5.56789,67.00], dtype = torch.int32)\n",
        "\n",
        "print('\\n c ',c[0].item())\n",
        "print(c.dtype)\n",
        "print(c.type())\n",
        "\n",
        "\n",
        "d = torch.FloatTensor([3,0,5,67.00])\n",
        "\n",
        "print('\\n d ',d[0].item())\n",
        "print(d.dtype)\n",
        "print(d.type())\n",
        "\n",
        "\n",
        "d = d.type(torch.int64)\n",
        "print('New dtype ', d.dtype)\n",
        "print(d.type())\n"
      ]
    },
    {
      "cell_type": "code",
      "execution_count": null,
      "metadata": {
        "colab": {
          "base_uri": "https://localhost:8080/"
        },
        "id": "_2Gh8nL5Wj7O",
        "outputId": "a063d2d6-aa2d-45ca-8336-1fd4c8dc5833"
      },
      "outputs": [
        {
          "output_type": "stream",
          "name": "stdout",
          "text": [
            "\n",
            " d  torch.Size([4])\n",
            "1\n",
            "d_col  torch.Size([4, 1])\n",
            "2\n"
          ]
        }
      ],
      "source": [
        "d = torch.Tensor([3,0,5,67.00])\n",
        "\n",
        "print('\\n d ',d.size())\n",
        "print(d.ndimension())\n",
        "\n",
        "d_col = d.view(-1,1)\n",
        "print('d_col ', d_col.size())\n",
        "print(d_col.ndimension())"
      ]
    },
    {
      "cell_type": "code",
      "execution_count": null,
      "metadata": {
        "colab": {
          "base_uri": "https://localhost:8080/"
        },
        "id": "2RhVy08NYQwC",
        "outputId": "b13e20fd-f943-45d1-f678-3c2accaf10db"
      },
      "outputs": [
        {
          "output_type": "execute_result",
          "data": {
            "text/plain": [
              "343"
            ]
          },
          "metadata": {},
          "execution_count": 3
        }
      ],
      "source": [
        "#numpy to pytorch and back\n",
        "\n",
        "import numpy as np\n",
        "import pandas as pd\n",
        "\n",
        "df = pd.Series([3,4,5,66,343,33,3])\n",
        "torch_array = torch.from_numpy(df.values)\n",
        "torch_array.tolist()\n",
        "\n",
        "numpy_array = np.array([0.1,2.3,4,5,6])\n",
        "torch_tensor = torch.from_numpy(numpy_array)\n",
        "backtonumpy = torch_tensor.numpy()\n",
        "\n",
        "torch_array[0]\n",
        "\n",
        "torch_array[4].item()\n"
      ]
    },
    {
      "cell_type": "code",
      "execution_count": null,
      "metadata": {
        "colab": {
          "base_uri": "https://localhost:8080/",
          "height": 106
        },
        "id": "E_zD6Z0IcE6H",
        "outputId": "ebdc698f-8844-4937-a0db-35280604097c"
      },
      "outputs": [
        {
          "output_type": "error",
          "ename": "SyntaxError",
          "evalue": "invalid syntax (<ipython-input-4-8862821f3998>, line 5)",
          "traceback": [
            "\u001b[0;36m  File \u001b[0;32m\"<ipython-input-4-8862821f3998>\"\u001b[0;36m, line \u001b[0;32m5\u001b[0m\n\u001b[0;31m    torch_array[]\u001b[0m\n\u001b[0m                ^\u001b[0m\n\u001b[0;31mSyntaxError\u001b[0m\u001b[0;31m:\u001b[0m invalid syntax\n"
          ]
        }
      ],
      "source": [
        "d = torch_array[0:2]\n",
        "d.tolist()\n",
        "\n",
        "\n",
        "torch_array[]\n",
        "\n"
      ]
    },
    {
      "cell_type": "code",
      "execution_count": null,
      "metadata": {
        "id": "dmrqkYNfwoVI"
      },
      "outputs": [],
      "source": [
        "print('n')"
      ]
    },
    {
      "cell_type": "code",
      "source": [
        "u = torch.tensor([0,1])\n",
        "v = torch.tensor([1,0])\n",
        "\n",
        "z = u + v\n",
        "print(z)"
      ],
      "metadata": {
        "id": "VBIPvy6uQnld"
      },
      "execution_count": null,
      "outputs": []
    },
    {
      "cell_type": "code",
      "source": [
        "y = torch.FloatTensor([1,2,3,4])\n",
        "z = 2*y\n",
        "d = y.mean()\n",
        "print(y.mean())\n",
        "y.max()\n",
        "\n"
      ],
      "metadata": {
        "id": "OpwouBa4f3ts"
      },
      "execution_count": null,
      "outputs": []
    },
    {
      "cell_type": "code",
      "source": [
        "import numpy as np\n",
        "\n",
        "x = torch.tensor([0, np.pi/2, np.pi])\n",
        "print(torch.sin(x))\n"
      ],
      "metadata": {
        "id": "oUT_C7aQh9kx"
      },
      "execution_count": null,
      "outputs": []
    },
    {
      "cell_type": "code",
      "source": [
        "torch.linspace(-2,2, steps = 5)"
      ],
      "metadata": {
        "id": "9-UBDVFWsIeo"
      },
      "execution_count": null,
      "outputs": []
    },
    {
      "cell_type": "code",
      "source": [
        "torch.linspace(-2, 2, num = 9)"
      ],
      "metadata": {
        "id": "HXjnHj63sXNt"
      },
      "execution_count": null,
      "outputs": []
    },
    {
      "cell_type": "code",
      "source": [
        "import numpy as np\n",
        "torch.linspace(0,2*np.pi,100)"
      ],
      "metadata": {
        "id": "uu9llg8DuDce"
      },
      "execution_count": null,
      "outputs": []
    },
    {
      "cell_type": "code",
      "source": [
        "u = torch.tensor([23,5])\n",
        "v = torch.tensor([12,10])\n",
        "\n",
        "torch.dot(u,v)"
      ],
      "metadata": {
        "id": "bAaLltEQ2d1C"
      },
      "execution_count": null,
      "outputs": []
    },
    {
      "cell_type": "code",
      "source": [
        "x = torch.tensor([0,np.pi/2,np.pi])\n",
        "torch.sin(x)"
      ],
      "metadata": {
        "id": "ULdsmPVCMni7"
      },
      "execution_count": null,
      "outputs": []
    },
    {
      "cell_type": "code",
      "source": [
        "a = torch.tensor([[11,22,33],\n",
        "                 [23,43,45],\n",
        "                  [54,11,12]])\n",
        "\n",
        "b = torch.tensor([[11,22,33],[23,43,45],[54,11,12]])\n",
        "#matrix multiplication\n",
        "torch.mm(a,b)\n"
      ],
      "metadata": {
        "colab": {
          "base_uri": "https://localhost:8080/"
        },
        "id": "SOEe9_gBVKM-",
        "outputId": "e3d564e5-b737-43b6-fdc9-14ccfcb05ba2"
      },
      "execution_count": null,
      "outputs": [
        {
          "output_type": "execute_result",
          "data": {
            "text/plain": [
              "tensor([[2409, 1551, 1749],\n",
              "        [3672, 2850, 3234],\n",
              "        [1495, 1793, 2421]])"
            ]
          },
          "metadata": {},
          "execution_count": 10
        }
      ]
    },
    {
      "cell_type": "code",
      "source": [],
      "metadata": {
        "colab": {
          "base_uri": "https://localhost:8080/"
        },
        "id": "u4awERDXiArG",
        "outputId": "a7da2349-3275-4336-90ca-4e4e35a7fb52"
      },
      "execution_count": null,
      "outputs": [
        {
          "output_type": "execute_result",
          "data": {
            "text/plain": [
              "[4, 5]"
            ]
          },
          "metadata": {},
          "execution_count": 1
        }
      ]
    },
    {
      "cell_type": "code",
      "source": [
        "\n",
        "my_list = torch.tensor([[1, 2, 3, 4],\n",
        "          [5, 6, 7, 8],\n",
        "          [9, 10, 11, 12],\n",
        "          [13, 14, 15, 16]])\n",
        "\n",
        "\n",
        "\n",
        "# Corrected the list indexing to use slices instead of tuples.\n",
        "my_list[1:3]\n"
      ],
      "metadata": {
        "colab": {
          "base_uri": "https://localhost:8080/"
        },
        "id": "84YMLDRvj8U1",
        "outputId": "caf0cb63-a610-4d45-86d1-e55e095d8fc6"
      },
      "execution_count": null,
      "outputs": [
        {
          "output_type": "execute_result",
          "data": {
            "text/plain": [
              "tensor([[ 5,  6,  7,  8],\n",
              "        [ 9, 10, 11, 12]])"
            ]
          },
          "metadata": {},
          "execution_count": 8
        }
      ]
    },
    {
      "cell_type": "code",
      "source": [
        "# derivatives\n",
        "#f(u=1,v=2) = uv + u^2\n",
        "\n",
        "u = torch.tensor(1, dtype = torch.float32,requires_grad = True)\n",
        "v = torch.tensor(2,  dtype = torch.float32, requires_grad = True)\n",
        "f = u*v + u**2\n",
        "\n",
        "f.backward()\n",
        "\n",
        "print('The value of u derivative',u.grad)\n",
        "print('The value of v derivative',v.grad)\n"
      ],
      "metadata": {
        "colab": {
          "base_uri": "https://localhost:8080/"
        },
        "id": "Y0Wy9CYuj92Y",
        "outputId": "6f1e1ed4-f50c-4ec5-b2f7-6e0266355c6a"
      },
      "execution_count": null,
      "outputs": [
        {
          "output_type": "stream",
          "name": "stdout",
          "text": [
            "The value of u derivative tensor(4.)\n",
            "The value of v derivative tensor(1.)\n"
          ]
        }
      ]
    },
    {
      "cell_type": "code",
      "source": [
        "u = torch.tensor(1, dtype = torch.float32, requires_grad = True)\n",
        "v = torch.tensor(2, dtype = torch.float32, requires_grad = True)\n",
        "f = u*v + u**2\n",
        "\n",
        "f.backward()\n",
        "\n",
        "print('The printed value of u derivative ', u.grad)\n",
        "print('The print value of v derivative' , v. grad)"
      ],
      "metadata": {
        "colab": {
          "base_uri": "https://localhost:8080/"
        },
        "id": "LPPX6fpLLGNH",
        "outputId": "a66b6b7b-08cf-4648-9799-f0271cd4cc96"
      },
      "execution_count": null,
      "outputs": [
        {
          "output_type": "stream",
          "name": "stdout",
          "text": [
            "The printed value of u derivative  tensor(4.)\n",
            "The print value of v derivative tensor(1.)\n"
          ]
        }
      ]
    },
    {
      "cell_type": "code",
      "source": [
        "class test(object):\n",
        "  def __getitem__(self,items):\n",
        "    print(type(items),items)\n",
        "\n",
        "test = test()\n",
        "test[5]\n",
        "test['zeus']\n",
        "test[5:65:5]\n",
        "test[1,'x',10.0]\n",
        "test['a':'z':2]\n",
        "test[object()]\n",
        "\n"
      ],
      "metadata": {
        "colab": {
          "base_uri": "https://localhost:8080/"
        },
        "id": "SbQLQaAkbLwL",
        "outputId": "b44a1675-2e55-4915-d705-a4bd3d4073df"
      },
      "execution_count": null,
      "outputs": [
        {
          "output_type": "stream",
          "name": "stdout",
          "text": [
            "<class 'int'> 5\n",
            "<class 'str'> zeus\n",
            "<class 'slice'> slice(5, 65, 5)\n",
            "<class 'tuple'> (1, 'x', 10.0)\n",
            "<class 'slice'> slice('a', 'z', 2)\n",
            "<class 'object'> <object object at 0x7c38a0d64840>\n"
          ]
        }
      ]
    },
    {
      "cell_type": "code",
      "source": [
        "#rom torch.utils.data import dataset\n",
        "#torch.manual_seed(1)\n",
        "from torch.utils.data import Dataset\n",
        "class toyset(Dataset):\n",
        "      def __init__(self,length = 100, transform = None):\n",
        "        self.length = length\n",
        "        self.x = 2*torch.ones(length,2)\n",
        "        self.y = torch.ones(length, 1)\n",
        "        self.transform = transform\n",
        "      def __getitem__(self,index):\n",
        "        sample = self.x[index], self.y[index]\n",
        "        if self.transform:\n",
        "          sample = self.transform(sample)\n",
        "        return sample\n",
        "      def __len__(self):\n",
        "        return self.len\n",
        "\n"
      ],
      "metadata": {
        "id": "TfGiSuo1MwHI"
      },
      "execution_count": null,
      "outputs": []
    },
    {
      "cell_type": "code",
      "source": [
        "# Define class for dataset\n",
        "import torch\n",
        "from torch.utils.data import Dataset\n",
        "class toy_set(Dataset):\n",
        "\n",
        "    # Constructor with defult values\n",
        "        def __init__(self, length = 100, transform = None):\n",
        "            self.len = length\n",
        "            self.x = 2 * torch.ones(length, 2)\n",
        "            self.y = torch.ones(length, 1)\n",
        "            self.transform = transform\n",
        "\n",
        "        # Getter\n",
        "        def __getitem__(self, index):\n",
        "            sample = self.x[index], self.y[index]\n",
        "            if self.transform:\n",
        "                sample = self.transform(sample)\n",
        "            return sample\n",
        "\n",
        "        # Get Length\n",
        "        def __len__(self):\n",
        "            return self.len"
      ],
      "metadata": {
        "id": "lSQdiIsZz6zv"
      },
      "execution_count": null,
      "outputs": []
    },
    {
      "cell_type": "code",
      "source": [],
      "metadata": {
        "id": "FUOHK2-N84VN"
      },
      "execution_count": null,
      "outputs": []
    },
    {
      "cell_type": "code",
      "source": [
        "ourdata = toydata()\n",
        "print(\"the data \", ourdata)\n",
        "print(\"the length of the data \", len(ourdata) )\n",
        "print(\"the sample data\", ourdata[0])"
      ],
      "metadata": {
        "colab": {
          "base_uri": "https://localhost:8080/"
        },
        "id": "i6xE1ZUkbCjH",
        "outputId": "9220713f-0cb2-4f47-d2cc-1c90a085c03e"
      },
      "execution_count": null,
      "outputs": [
        {
          "output_type": "stream",
          "name": "stdout",
          "text": [
            "the data  <__main__.toydata object at 0x7ea22d349600>\n",
            "the length of the data  100\n",
            "the sample data (tensor([2., 2.]), tensor([1.]))\n"
          ]
        }
      ]
    },
    {
      "cell_type": "code",
      "source": [
        "for i in range(3):\n",
        "  x,y = ourdata[i]\n",
        "  print(\"index\", i, \"the data from \", x,y,\"  THe data \", )"
      ],
      "metadata": {
        "colab": {
          "base_uri": "https://localhost:8080/"
        },
        "id": "k51kPRkPbfUT",
        "outputId": "b31c590c-4640-4b4e-8919-371da108588a"
      },
      "execution_count": null,
      "outputs": [
        {
          "output_type": "stream",
          "name": "stdout",
          "text": [
            "index 0 the data from  tensor([2., 2.]) tensor([1.])   THe data \n",
            "index 1 the data from  tensor([2., 2.]) tensor([1.])   THe data \n",
            "index 2 the data from  tensor([2., 2.]) tensor([1.])   THe data \n"
          ]
        }
      ]
    },
    {
      "cell_type": "code",
      "source": [
        "for x,y in ourdata:\n",
        "  print(\"x \",x, \"y\", y, \" data \")"
      ],
      "metadata": {
        "id": "q0DKdrH53d0_"
      },
      "execution_count": null,
      "outputs": []
    },
    {
      "cell_type": "code",
      "source": [
        "\n",
        "class toydata(Dataset):\n",
        "  def __init__(self,length = 50, transform = None):\n",
        "    self.len = length\n",
        "    self.x = 2*torch.ones(length,2)\n",
        "    self.y = torch.ones(length,1)\n",
        "    self.transform = transform\n",
        "  def __getitem__(self,index):\n",
        "    sample = self.x[index],self.y[index]\n",
        "    if self.transform:\n",
        "      sample = self.transform(sample)\n",
        "    return sample\n",
        "  def __len__(self):\n",
        "      return self.len"
      ],
      "metadata": {
        "id": "LdtRR4IO43UX"
      },
      "execution_count": null,
      "outputs": []
    },
    {
      "cell_type": "code",
      "source": [
        "odata = toydata()\n",
        "print(\"dataset \",odata)\n",
        "print(\"dataset sample \",odata[1])\n",
        "print(\"dataset length  \",len(odata))"
      ],
      "metadata": {
        "colab": {
          "base_uri": "https://localhost:8080/"
        },
        "id": "dYuJFHSj8VQp",
        "outputId": "06c1a6bf-9a62-4e18-8b4e-79792d1567e3"
      },
      "execution_count": null,
      "outputs": [
        {
          "output_type": "stream",
          "name": "stdout",
          "text": [
            "dataset  <__main__.toydata object at 0x7ea22d3491b0>\n",
            "dataset sample  (tensor([2., 2.]), tensor([1.]))\n",
            "dataset length   50\n"
          ]
        }
      ]
    },
    {
      "cell_type": "code",
      "source": [
        "class multiadd():\n",
        "  def __init__(self,multiy = 2,xadd = 1):\n",
        "    self.multiy = multiy\n",
        "    self.xadd = xadd\n",
        "\n",
        "  def __call__(self,sample):\n",
        "    x = sample[0]\n",
        "    y = sample[1]\n",
        "    x = x + self.xadd\n",
        "    y = y *multiy\n",
        "    sample = x,y\n",
        "    return sample\n",
        "\n",
        "# Create tranform class mult\n",
        "\n",
        "class mult(object):\n",
        "\n",
        "    # Constructor\n",
        "    def __init__(self, mult = 100):\n",
        "        self.mult = mult\n",
        "\n",
        "    # Executor\n",
        "    def __call__(self, sample):\n",
        "        x = sample[0]\n",
        "        y = sample[1]\n",
        "        x = x * self.mult\n",
        "        y = y * self.mult\n",
        "        sample = x, y\n",
        "        return sample"
      ],
      "metadata": {
        "id": "9_oANW8k96-n"
      },
      "execution_count": null,
      "outputs": []
    },
    {
      "cell_type": "code",
      "source": [
        "\n",
        "mam = my_add_mult()\n",
        "odata = toydata(transform = mam)\n",
        "\n",
        "for i in range(3):\n",
        "  print('the values of x and y', odata[i], 'for index',i)\n"
      ],
      "metadata": {
        "colab": {
          "base_uri": "https://localhost:8080/"
        },
        "id": "JcBio08KAXJ8",
        "outputId": "eb68f9fe-9307-4168-a673-5adb567c957d"
      },
      "execution_count": null,
      "outputs": [
        {
          "output_type": "stream",
          "name": "stdout",
          "text": [
            "the values of x and y (tensor([3., 3.]), tensor([3.])) for index 0\n",
            "the values of x and y (tensor([3., 3.]), tensor([3.])) for index 1\n",
            "the values of x and y (tensor([3., 3.]), tensor([3.])) for index 2\n"
          ]
        }
      ]
    },
    {
      "cell_type": "code",
      "source": [
        "for i in range(3):\n",
        "  x,y = odata[i]\n",
        "  print('the values of x and y', x, 'and y ',y, 'for index',i)\n",
        "  x_,y_ = mam(odata[i])\n",
        "  print('the values of x_ and y_', x_, 'and y ',y_, 'for index',i)"
      ],
      "metadata": {
        "colab": {
          "base_uri": "https://localhost:8080/"
        },
        "id": "budBc9eeCAKW",
        "outputId": "6a1e9d70-46e5-4c48-bc8d-231fd160079d"
      },
      "execution_count": null,
      "outputs": [
        {
          "output_type": "stream",
          "name": "stdout",
          "text": [
            "the values of x and y tensor([3., 3.]) and y  tensor([3.]) for index 0\n",
            "the values of x_ and y_ tensor([4., 4.]) and y  tensor([9.]) for index 0\n",
            "the values of x and y tensor([3., 3.]) and y  tensor([3.]) for index 1\n",
            "the values of x_ and y_ tensor([4., 4.]) and y  tensor([9.]) for index 1\n",
            "the values of x and y tensor([3., 3.]) and y  tensor([3.]) for index 2\n",
            "the values of x_ and y_ tensor([4., 4.]) and y  tensor([9.]) for index 2\n"
          ]
        }
      ]
    },
    {
      "cell_type": "code",
      "source": [
        "import torch\n",
        "from torch.utils.data import Dataset\n",
        "\n",
        "\n",
        "class toydata(Dataset):\n",
        "  def __init__(self,length= 100, transform = None):\n",
        "    self.len = length\n",
        "    self.x = 2*torch.ones(length,2)\n",
        "    self.y = torch.ones(length,1)\n",
        "    self.transform = transform\n",
        "  def __getitem__(self,index):\n",
        "    sample = self.x[index],self.y[index]\n",
        "    if self.transform:\n",
        "      sample = self.transform(sample)\n",
        "    return sample\n",
        "  def __len__(self):\n",
        "    return self.len\n",
        "\n",
        "odata = toydata()\n",
        "print(\"our data \",odata)\n",
        "print(\"length of the data \",len(odata))\n",
        "print(\"sample data \",odata[0])\n",
        "\n"
      ],
      "metadata": {
        "colab": {
          "base_uri": "https://localhost:8080/"
        },
        "id": "kpfYd-4zWhyQ",
        "outputId": "6c82abfa-3be0-4198-af03-ee349ba3b892"
      },
      "execution_count": null,
      "outputs": [
        {
          "output_type": "stream",
          "name": "stdout",
          "text": [
            "our data  <__main__.toydata object at 0x7c4253c144c0>\n",
            "length of the data  100\n",
            "sample data  (tensor([2., 2.]), tensor([1.]))\n"
          ]
        }
      ]
    },
    {
      "cell_type": "code",
      "source": [
        "import torch\n",
        "from torch.utils.data import Dataset\n",
        "#transform function\n",
        "class toydata(Dataset):\n",
        "  def __init__(self,length = 100, transform = None):\n",
        "    self.len = length\n",
        "    self.x= 2*torch.ones(length,2)\n",
        "    self.y = torch.ones(length,1)\n",
        "    self.transform = transform\n",
        "  def __getitem__(self,index):\n",
        "    sample = self.x[index],self.y[index]\n",
        "    if self.transform:\n",
        "      sample = self.transform(sample)\n",
        "    return sample\n",
        "  def __len__(self):\n",
        "    return self.len\n",
        "\n",
        "odata = toydata()\n",
        "\n",
        "print(\"The data is :\", odata)\n",
        "print(\"The sample data is :\", odata[0])\n",
        "print(\"The length of data is :\" , len(odata))\n"
      ],
      "metadata": {
        "colab": {
          "base_uri": "https://localhost:8080/"
        },
        "id": "3NgCI8nOYeJc",
        "outputId": "854ec6ee-bd49-4d08-c1cb-b5d75b42f484"
      },
      "execution_count": null,
      "outputs": [
        {
          "output_type": "stream",
          "name": "stdout",
          "text": [
            "The data is : <__main__.toydata object at 0x79439007cbb0>\n",
            "The sample data is : (tensor([2., 2.]), tensor([1.]))\n",
            "The length of data is : 100\n"
          ]
        }
      ]
    },
    {
      "cell_type": "code",
      "source": [
        "#transform functions\n",
        "\n",
        "class transform1():\n",
        "  def __init__(self,addx = 10, multy = 2):\n",
        "    self.addx = addx\n",
        "    self.multy = multy\n",
        "  def __call__(self,sample):\n",
        "    x = sample[0]\n",
        "    y = sample[1]\n",
        "    x = x + self.addx\n",
        "    y = y + self.multy\n",
        "    sample = x,y\n",
        "    return sample\n",
        "\n",
        "class transform2():\n",
        "  def __init__(self,mult = 100):\n",
        "    self.mult = mult\n",
        "  def __call__(self,sample):\n",
        "    x = sample[0]\n",
        "    y = sample[1]\n",
        "    x = x* self.mult\n",
        "    y = y* self.mult\n",
        "    sample = x,y\n",
        "    return sample\n",
        "\n",
        "trans1 = transform1()\n",
        "trans2 = transform2()\n",
        "\n",
        "for i in range(3):\n",
        "  x,y = odata[i]\n",
        "  x_,y_ = trans1(odata[i])\n",
        "  print(\"The x are \",x,\" and y is \",y )\n",
        "  print(\"The x_ are \",x_,\" and y_ is \",y_ )\n",
        "\n",
        "for i in range(3):\n",
        "  x,y = odata[i]\n",
        "  x_,y_ = trans2(odata[i])\n",
        "  print(\"The transform 2 x are \",x,\" and y is \",y )\n",
        "\n",
        "  print(\"The transform 2 x_ are \",x_,\" and y_ is \",y_ )"
      ],
      "metadata": {
        "colab": {
          "base_uri": "https://localhost:8080/"
        },
        "id": "K43RjwMaFMgc",
        "outputId": "5d28cd47-7bfb-40ff-cee1-76c4e7226cc6"
      },
      "execution_count": null,
      "outputs": [
        {
          "output_type": "stream",
          "name": "stdout",
          "text": [
            "The x are  tensor([2., 2.])  and y is  tensor([1.])\n",
            "The x_ are  tensor([12., 12.])  and y_ is  tensor([3.])\n",
            "The x are  tensor([2., 2.])  and y is  tensor([1.])\n",
            "The x_ are  tensor([12., 12.])  and y_ is  tensor([3.])\n",
            "The x are  tensor([2., 2.])  and y is  tensor([1.])\n",
            "The x_ are  tensor([12., 12.])  and y_ is  tensor([3.])\n",
            "The transform 2 x are  tensor([2., 2.])  and y is  tensor([1.])\n",
            "The transform 2 x_ are  tensor([200., 200.])  and y_ is  tensor([100.])\n",
            "The transform 2 x are  tensor([2., 2.])  and y is  tensor([1.])\n",
            "The transform 2 x_ are  tensor([200., 200.])  and y_ is  tensor([100.])\n",
            "The transform 2 x are  tensor([2., 2.])  and y is  tensor([1.])\n",
            "The transform 2 x_ are  tensor([200., 200.])  and y_ is  tensor([100.])\n"
          ]
        }
      ]
    },
    {
      "cell_type": "code",
      "source": [
        "odata2 = toydata(transform = trans1)\n",
        "\n",
        "for i in range(4):\n",
        "  x,y = odata[i]\n",
        "  x_,y_ = odata2[i]\n",
        "  print(\"The new data is \",x,\" and y\" , y)\n",
        "  print(\"The x_ data is \",x_,\" and y_\" , y_)\n"
      ],
      "metadata": {
        "colab": {
          "base_uri": "https://localhost:8080/"
        },
        "id": "g95WqLbkNRxq",
        "outputId": "30324813-0f0e-4182-9051-8234d6a52dbe"
      },
      "execution_count": null,
      "outputs": [
        {
          "output_type": "stream",
          "name": "stdout",
          "text": [
            "The new data is  tensor([2., 2.])  and y tensor([1.])\n",
            "The x_ data is  tensor([12., 12.])  and y_ tensor([3.])\n",
            "The new data is  tensor([2., 2.])  and y tensor([1.])\n",
            "The x_ data is  tensor([12., 12.])  and y_ tensor([3.])\n",
            "The new data is  tensor([2., 2.])  and y tensor([1.])\n",
            "The x_ data is  tensor([12., 12.])  and y_ tensor([3.])\n",
            "The new data is  tensor([2., 2.])  and y tensor([1.])\n",
            "The x_ data is  tensor([12., 12.])  and y_ tensor([3.])\n"
          ]
        }
      ]
    },
    {
      "cell_type": "code",
      "source": [
        "from torchvision import transforms\n",
        "\n",
        "data_transform = transforms.Compose([transform1(),transform2()])\n",
        "\n",
        "print(\"the data transform \", data_transform)\n",
        "\n",
        "transformed_data = toydata(transform = data_transform)\n",
        "\n",
        "for i in range(3):\n",
        "  x__,y__ = transformed_data[i]\n",
        "  x_,y_ = odata2[i]\n",
        "  x,y = odata[i]\n",
        "  print(\" x__\",x__,\"y__\",y__)\n",
        "  print(\" x_\",x_,\"y_\",y_)\n",
        "  print(\" x\",x,\"y\",y)\n",
        "\n"
      ],
      "metadata": {
        "colab": {
          "base_uri": "https://localhost:8080/"
        },
        "id": "4ND9gLVjWcaY",
        "outputId": "04ce642a-b893-42be-8772-4f8e3e032676"
      },
      "execution_count": null,
      "outputs": [
        {
          "output_type": "stream",
          "name": "stdout",
          "text": [
            "the data transform  Compose(\n",
            "    <__main__.transform1 object at 0x7942c0c54220>\n",
            "    <__main__.transform2 object at 0x7942c0c57dc0>\n",
            ")\n",
            " x__ tensor([1200., 1200.]) y__ tensor([300.])\n",
            " x_ tensor([12., 12.]) y_ tensor([3.])\n",
            " x tensor([2., 2.]) y tensor([1.])\n",
            " x__ tensor([1200., 1200.]) y__ tensor([300.])\n",
            " x_ tensor([12., 12.]) y_ tensor([3.])\n",
            " x tensor([2., 2.]) y tensor([1.])\n",
            " x__ tensor([1200., 1200.]) y__ tensor([300.])\n",
            " x_ tensor([12., 12.]) y_ tensor([3.])\n",
            " x tensor([2., 2.]) y tensor([1.])\n"
          ]
        }
      ]
    }
  ],
  "metadata": {
    "colab": {
      "provenance": [],
      "authorship_tag": "ABX9TyP1N3kfXeZbug3dCkfUruS8",
      "include_colab_link": true
    },
    "kernelspec": {
      "display_name": "Python 3",
      "name": "python3"
    },
    "language_info": {
      "name": "python"
    }
  },
  "nbformat": 4,
  "nbformat_minor": 0
}
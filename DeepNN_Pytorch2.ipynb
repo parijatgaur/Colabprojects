{
  "nbformat": 4,
  "nbformat_minor": 0,
  "metadata": {
    "colab": {
      "provenance": [],
      "authorship_tag": "ABX9TyNd0TiBxdWXPTsz1O3iZ7f2",
      "include_colab_link": true
    },
    "kernelspec": {
      "name": "python3",
      "display_name": "Python 3"
    },
    "language_info": {
      "name": "python"
    }
  },
  "cells": [
    {
      "cell_type": "markdown",
      "metadata": {
        "id": "view-in-github",
        "colab_type": "text"
      },
      "source": [
        "<a href=\"https://colab.research.google.com/github/parijatgaur/Colabprojects/blob/main/DeepNN_Pytorch2.ipynb\" target=\"_parent\"><img src=\"https://colab.research.google.com/assets/colab-badge.svg\" alt=\"Open In Colab\"/></a>"
      ]
    },
    {
      "cell_type": "code",
      "execution_count": 4,
      "metadata": {
        "colab": {
          "base_uri": "https://localhost:8080/"
        },
        "id": "aM5N9bQGB5OR",
        "outputId": "9c2c1601-349e-4e0d-f348-94fbd128b7d7"
      },
      "outputs": [
        {
          "output_type": "execute_result",
          "data": {
            "text/plain": [
              "<torch._C.Generator at 0x7c52802b4450>"
            ]
          },
          "metadata": {},
          "execution_count": 4
        }
      ],
      "source": [
        "import matplotlib.pyplot as plt\n",
        "import numpy as np\n",
        "import torch\n",
        "import torch.nn as nn\n",
        "import matplotlib.colors as ListedColormap\n",
        "from torch.utils.data import DataLoader, Dataset\n",
        "import torch.nn.functional as f\n",
        "\n",
        "\n",
        "torch.manual_seed(1)\n"
      ]
    },
    {
      "cell_type": "code",
      "source": [
        "# Define the function to plot the diagram\n",
        "\n",
        "def plot_decision_regions_3class(model, data_set):\n",
        "    cmap_light = ListedColormap(['#FFAAAA', '#AAFFAA', '#00AAFF'])\n",
        "    cmap_bold = ListedColormap(['#FF0000', '#00FF00', '#00AAFF'])\n",
        "    X = data_set.x.numpy()\n",
        "    y = data_set.y.numpy()\n",
        "    h = .02\n",
        "    x_min, x_max = X[:, 0].min() - 0.1, X[:, 0].max() + 0.1\n",
        "    y_min, y_max = X[:, 1].min() - 0.1, X[:, 1].max() + 0.1\n",
        "    xx, yy = np.meshgrid(np.arange(x_min, x_max, h), np.arange(y_min, y_max, h))\n",
        "    XX = torch.Tensor(np.c_[xx.ravel(), yy.ravel()])\n",
        "    _, yhat = torch.max(model(XX), 1)\n",
        "    yhat = yhat.numpy().reshape(xx.shape)\n",
        "    plt.pcolormesh(xx, yy, yhat, cmap=cmap_light)\n",
        "    plt.plot(X[y[:] == 0, 0], X[y[:] == 0, 1], 'ro', label = 'y=0')\n",
        "    plt.plot(X[y[:] == 1, 0], X[y[:] == 1, 1], 'go', label = 'y=1')\n",
        "    plt.plot(X[y[:] == 2, 0], X[y[:] == 2, 1], 'o', label = 'y=2')\n",
        "    plt.title(\"decision region\")\n",
        "    plt.legend()"
      ],
      "metadata": {
        "id": "kH59mSCyDd_M"
      },
      "execution_count": 2,
      "outputs": []
    },
    {
      "cell_type": "code",
      "source": [
        "# data creation\n",
        "\n",
        "# Create Data Class\n",
        "\n",
        "class Data(Dataset):\n",
        "\n",
        "    #  modified from: http://cs231n.github.io/neural-networks-case-study/\n",
        "    # Constructor\n",
        "    def __init__(self, K=3, N=500):\n",
        "        D = 2\n",
        "        X = np.zeros((N * K, D)) # data matrix (each row = single example)\n",
        "        y = np.zeros(N * K, dtype='uint8') # class labels\n",
        "        for j in range(K):\n",
        "          ix = range(N * j, N * (j + 1))\n",
        "          r = np.linspace(0.0, 1, N) # radius\n",
        "          t = np.linspace(j * 4, (j + 1) * 4, N) + np.random.randn(N) * 0.2 # theta\n",
        "          X[ix] = np.c_[r * np.sin(t), r*np.cos(t)]\n",
        "          y[ix] = j\n",
        "        self.y = torch.from_numpy(y).type(torch.LongTensor)\n",
        "        self.x = torch.from_numpy(X).type(torch.FloatTensor)\n",
        "        self.len = y.shape[0]\n",
        "\n",
        "    # Getter\n",
        "    def __getitem__(self, index):\n",
        "        return self.x[index], self.y[index]\n",
        "\n",
        "    # Get Length\n",
        "    def __len__(self):\n",
        "        return self.len\n",
        "\n",
        "    # Plot the diagram\n",
        "    def plot_stuff(self):\n",
        "        plt.plot(self.x[self.y[:] == 0, 0].numpy(), self.x[self.y[:] == 0, 1].numpy(), 'o', label=\"y = 0\")\n",
        "        plt.plot(self.x[self.y[:] == 1, 0].numpy(), self.x[self.y[:] == 1, 1].numpy(), 'ro', label=\"y = 1\")\n",
        "        plt.plot(self.x[self.y[:] == 2, 0].numpy(), self.x[self.y[:] == 2, 1].numpy(), 'go', label=\"y = 2\")\n",
        "        plt.legend()"
      ],
      "metadata": {
        "id": "fIW6GDkxEHsG"
      },
      "execution_count": 3,
      "outputs": []
    },
    {
      "cell_type": "code",
      "source": [
        "class NN(nn.Module):\n",
        "  def __init__(self, layers):\n",
        "    super(NN,self).__init__()\n",
        "    self.hidden = nn.ModuleList()\n",
        "    for i in range(len(layers)-2):\n",
        "      self.hidden.append(nn.Linear(layers[i], layers[i+1]))\n",
        "\n",
        "# self.hidden = nn.ModuleList([ nn.Linear( layers[i],layers[i+1] ) for i in range(len(layers - 1))])\n",
        "  def forward(self, activation):\n",
        "    for i, layer in enumerate(self.hidden):\n",
        "      if i < len(self.hidden)-1:\n",
        "        activation = f.relu(layer(activation))\n",
        "      else:\n",
        "        activation = layer(activation)\n",
        "        return activation\n",
        "\n",
        "\n"
      ],
      "metadata": {
        "id": "XnChQWN2F9nV"
      },
      "execution_count": 6,
      "outputs": []
    },
    {
      "cell_type": "code",
      "source": [
        "def train(dataset, model, criterion, train_loader, optimizer, epochs=100):\n",
        "  i = 0\n",
        "  Loss = []\n",
        "  Acc = []\n",
        "  us = { \"Total Loss\": Loss, \" Accuracy \": Acc  }\n",
        "  for e in range(epochs):\n",
        "    for x, y in train_loader:\n",
        "      optimizer.zero_grad()\n",
        "      yhat = model(x)\n",
        "      loss = criterion(yhat, y)\n",
        "      optimizer.zero_grad()\n",
        "      loss.backward()\n",
        "      optimizer.step()\n",
        "      Loss.append(loss.item())\n",
        "      fig, ax1 = plt.subplots()\n",
        "  color = 'tab:red'\n",
        "  ax1.plot(Loss, color = color)\n",
        "  ax1.set_xlabel('Iteration', color = color)\n",
        "  ax1.set_ylabel('total loss', color = color)\n",
        "  ax1.tick_params(axis = 'y', color = color)\n",
        "\n",
        "  ax2 = ax1.twinx()\n",
        "  color = 'tab:blue'\n",
        "  ax2.set_ylabel('accuracy', color = color)  # we already handled the x-label with ax1\n",
        "  ax2.plot(Acc, color = color)\n",
        "  ax2.tick_params(axis = 'y', color = color)\n",
        "  fig.tight_layout()  # otherwise the right y-label is slightly clipped\n",
        "\n",
        "  plt.show()\n",
        "  return Loss\n",
        "\n",
        "\n",
        "\n",
        "\n"
      ],
      "metadata": {
        "id": "ngL1-CgXQCSZ"
      },
      "execution_count": 14,
      "outputs": []
    },
    {
      "cell_type": "code",
      "source": [],
      "metadata": {
        "id": "Qyu2SJVVxI3I"
      },
      "execution_count": 9,
      "outputs": []
    },
    {
      "cell_type": "code",
      "source": [
        "def accuracy( model, data_set):\n",
        "  _,yhat = torch.max(model(data_set.x), 1)\n",
        "  return (yhat == data_set.y).float().mean()\n",
        "\n"
      ],
      "metadata": {
        "id": "ycDXlfLNxRcu"
      },
      "execution_count": 11,
      "outputs": []
    },
    {
      "cell_type": "code",
      "source": [
        "# Create a Dataset object\n",
        "\n",
        "data_set = Data()\n",
        "data_set.plot_stuff()\n",
        "data_set.y = data_set.y.view(-1)\n",
        "\n",
        "layers = [2,50,3]\n",
        "learning_rate = 0.1\n",
        "model = NN(layers )\n",
        "criterion = nn.CrossEntropyLoss()\n",
        "optimizer = torch.optim.SGD(model.parameters(), lr = learning_rate)\n",
        "train_loader = DataLoader( dataset = data_set, batch_size = 100)\n",
        "\n",
        "LOSS = train(data_set, model, criterion, train_loader, optimizer, epochs=100)\n",
        "\n",
        "\n",
        "\n"
      ],
      "metadata": {
        "id": "PynBahoOyP3B",
        "outputId": "9c43a997-3529-4b29-d2dc-abab6163ea68",
        "colab": {
          "base_uri": "https://localhost:8080/"
        }
      },
      "execution_count": null,
      "outputs": [
        {
          "output_type": "stream",
          "name": "stderr",
          "text": [
            "<ipython-input-14-862a1d21e4c7>:15: RuntimeWarning: More than 20 figures have been opened. Figures created through the pyplot interface (`matplotlib.pyplot.figure`) are retained until explicitly closed and may consume too much memory. (To control this warning, see the rcParam `figure.max_open_warning`). Consider using `matplotlib.pyplot.close()`.\n",
            "  fig, ax1 = plt.subplots()\n"
          ]
        }
      ]
    },
    {
      "cell_type": "code",
      "source": [],
      "metadata": {
        "id": "LQAz8FU2zThG"
      },
      "execution_count": null,
      "outputs": []
    }
  ]
}